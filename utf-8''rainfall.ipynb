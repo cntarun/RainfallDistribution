{
  "cells": [
    {
      "metadata": {},
      "cell_type": "markdown",
      "source": "# RAINFALL DISTRIBUTION OF INDIAN STATES"
    },
    {
      "metadata": {
        "trusted": true
      },
      "cell_type": "code",
      "source": "import pandas as pd\nimport matplotlib.pyplot as plt\nimport numpy as np\nfrom sklearn.cluster import KMeans\nfrom sklearn.preprocessing import LabelEncoder\nfrom sklearn.preprocessing import MinMaxScaler\nimport seaborn as sns\n%matplotlib inline",
      "execution_count": 2,
      "outputs": []
    },
    {
      "metadata": {
        "trusted": true
      },
      "cell_type": "code",
      "source": "rainfall=pd.read_csv('rainfall_2.csv')\nrainfall.head()",
      "execution_count": 3,
      "outputs": [
        {
          "output_type": "execute_result",
          "execution_count": 3,
          "data": {
            "text/html": "<div>\n<table border=\"1\" class=\"dataframe\">\n  <thead>\n    <tr style=\"text-align: right;\">\n      <th></th>\n      <th>SUBDIVISION</th>\n      <th>YEAR</th>\n      <th>JAN</th>\n      <th>FEB</th>\n      <th>MAR</th>\n      <th>APR</th>\n      <th>MAY</th>\n      <th>JUN</th>\n      <th>JUL</th>\n      <th>AUG</th>\n      <th>SEP</th>\n      <th>OCT</th>\n      <th>NOV</th>\n      <th>DEC</th>\n      <th>ANNUAL</th>\n      <th>Jan-Feb</th>\n      <th>Mar-May</th>\n      <th>Jun-Sep</th>\n      <th>Oct-Dec</th>\n    </tr>\n  </thead>\n  <tbody>\n    <tr>\n      <th>0</th>\n      <td>ANDAMAN &amp; NICOBAR ISLANDS</td>\n      <td>1901</td>\n      <td>49.2</td>\n      <td>87.1</td>\n      <td>29.2</td>\n      <td>2.3</td>\n      <td>528.8</td>\n      <td>517.5</td>\n      <td>365.1</td>\n      <td>481.1</td>\n      <td>332.6</td>\n      <td>388.5</td>\n      <td>558.2</td>\n      <td>33.6</td>\n      <td>3373.2</td>\n      <td>136.3</td>\n      <td>560.3</td>\n      <td>1696.3</td>\n      <td>980.3</td>\n    </tr>\n    <tr>\n      <th>1</th>\n      <td>ANDAMAN &amp; NICOBAR ISLANDS</td>\n      <td>1902</td>\n      <td>0.0</td>\n      <td>159.8</td>\n      <td>12.2</td>\n      <td>0.0</td>\n      <td>446.1</td>\n      <td>537.1</td>\n      <td>228.9</td>\n      <td>753.7</td>\n      <td>666.2</td>\n      <td>197.2</td>\n      <td>359.0</td>\n      <td>160.5</td>\n      <td>3520.7</td>\n      <td>159.8</td>\n      <td>458.3</td>\n      <td>2185.9</td>\n      <td>716.7</td>\n    </tr>\n    <tr>\n      <th>2</th>\n      <td>ANDAMAN &amp; NICOBAR ISLANDS</td>\n      <td>1903</td>\n      <td>12.7</td>\n      <td>144.0</td>\n      <td>0.0</td>\n      <td>1.0</td>\n      <td>235.1</td>\n      <td>479.9</td>\n      <td>728.4</td>\n      <td>326.7</td>\n      <td>339.0</td>\n      <td>181.2</td>\n      <td>284.4</td>\n      <td>225.0</td>\n      <td>2957.4</td>\n      <td>156.7</td>\n      <td>236.1</td>\n      <td>1874.0</td>\n      <td>690.6</td>\n    </tr>\n    <tr>\n      <th>3</th>\n      <td>ANDAMAN &amp; NICOBAR ISLANDS</td>\n      <td>1904</td>\n      <td>9.4</td>\n      <td>14.7</td>\n      <td>0.0</td>\n      <td>202.4</td>\n      <td>304.5</td>\n      <td>495.1</td>\n      <td>502.0</td>\n      <td>160.1</td>\n      <td>820.4</td>\n      <td>222.2</td>\n      <td>308.7</td>\n      <td>40.1</td>\n      <td>3079.6</td>\n      <td>24.1</td>\n      <td>506.9</td>\n      <td>1977.6</td>\n      <td>571.0</td>\n    </tr>\n    <tr>\n      <th>4</th>\n      <td>ANDAMAN &amp; NICOBAR ISLANDS</td>\n      <td>1905</td>\n      <td>1.3</td>\n      <td>0.0</td>\n      <td>3.3</td>\n      <td>26.9</td>\n      <td>279.5</td>\n      <td>628.7</td>\n      <td>368.7</td>\n      <td>330.5</td>\n      <td>297.0</td>\n      <td>260.7</td>\n      <td>25.4</td>\n      <td>344.7</td>\n      <td>2566.7</td>\n      <td>1.3</td>\n      <td>309.7</td>\n      <td>1624.9</td>\n      <td>630.8</td>\n    </tr>\n  </tbody>\n</table>\n</div>",
            "text/plain": "                 SUBDIVISION  YEAR   JAN    FEB   MAR    APR    MAY    JUN  \\\n0  ANDAMAN & NICOBAR ISLANDS  1901  49.2   87.1  29.2    2.3  528.8  517.5   \n1  ANDAMAN & NICOBAR ISLANDS  1902   0.0  159.8  12.2    0.0  446.1  537.1   \n2  ANDAMAN & NICOBAR ISLANDS  1903  12.7  144.0   0.0    1.0  235.1  479.9   \n3  ANDAMAN & NICOBAR ISLANDS  1904   9.4   14.7   0.0  202.4  304.5  495.1   \n4  ANDAMAN & NICOBAR ISLANDS  1905   1.3    0.0   3.3   26.9  279.5  628.7   \n\n     JUL    AUG    SEP    OCT    NOV    DEC  ANNUAL  Jan-Feb  Mar-May  \\\n0  365.1  481.1  332.6  388.5  558.2   33.6  3373.2    136.3    560.3   \n1  228.9  753.7  666.2  197.2  359.0  160.5  3520.7    159.8    458.3   \n2  728.4  326.7  339.0  181.2  284.4  225.0  2957.4    156.7    236.1   \n3  502.0  160.1  820.4  222.2  308.7   40.1  3079.6     24.1    506.9   \n4  368.7  330.5  297.0  260.7   25.4  344.7  2566.7      1.3    309.7   \n\n   Jun-Sep  Oct-Dec  \n0   1696.3    980.3  \n1   2185.9    716.7  \n2   1874.0    690.6  \n3   1977.6    571.0  \n4   1624.9    630.8  "
          },
          "metadata": {}
        }
      ]
    },
    {
      "metadata": {
        "trusted": true
      },
      "cell_type": "code",
      "source": "set(rainfall['SUBDIVISION'])",
      "execution_count": 4,
      "outputs": [
        {
          "output_type": "execute_result",
          "execution_count": 4,
          "data": {
            "text/plain": "{'ANDAMAN & NICOBAR ISLANDS',\n 'ARUNACHAL PRADESH',\n 'ASSAM & MEGHALAYA',\n 'BIHAR',\n 'CHHATTISGARH',\n 'COASTAL ANDHRA PRADESH',\n 'COASTAL KARNATAKA',\n 'EAST MADHYA PRADESH',\n 'EAST RAJASTHAN',\n 'EAST UTTAR PRADESH',\n 'GANGETIC WEST BENGAL',\n 'GUJARAT REGION',\n 'HARYANA DELHI & CHANDIGARH',\n 'HIMACHAL PRADESH',\n 'JAMMU & KASHMIR',\n 'JHARKHAND',\n 'KERALA',\n 'KONKAN & GOA',\n 'LAKSHADWEEP',\n 'MADHYA MAHARASHTRA',\n 'MATATHWADA',\n 'NAGA MANI MIZO TRIPURA',\n 'NORTH INTERIOR KARNATAKA',\n 'ORISSA',\n 'PUNJAB',\n 'RAYALSEEMA',\n 'SAURASHTRA & KUTCH',\n 'SOUTH INTERIOR KARNATAKA',\n 'SUB HIMALAYAN WEST BENGAL & SIKKIM',\n 'TAMIL NADU',\n 'TELANGANA',\n 'UTTARAKHAND',\n 'VIDARBHA',\n 'WEST MADHYA PRADESH',\n 'WEST RAJASTHAN',\n 'WEST UTTAR PRADESH'}"
          },
          "metadata": {}
        }
      ]
    },
    {
      "metadata": {
        "trusted": true
      },
      "cell_type": "code",
      "source": "rainfall.columns",
      "execution_count": 5,
      "outputs": [
        {
          "output_type": "execute_result",
          "execution_count": 5,
          "data": {
            "text/plain": "Index(['SUBDIVISION', 'YEAR', 'JAN', 'FEB', 'MAR', 'APR', 'MAY', 'JUN', 'JUL',\n       'AUG', 'SEP', 'OCT', 'NOV', 'DEC', 'ANNUAL', 'Jan-Feb', 'Mar-May',\n       'Jun-Sep', 'Oct-Dec'],\n      dtype='object')"
          },
          "metadata": {}
        }
      ]
    },
    {
      "metadata": {},
      "cell_type": "markdown",
      "source": "# HANDLING MISSING VALUES"
    },
    {
      "metadata": {},
      "cell_type": "markdown",
      "source": "# Forward Fill"
    },
    {
      "metadata": {
        "trusted": true
      },
      "cell_type": "code",
      "source": "rainfall.ffill(axis=0,inplace=True)",
      "execution_count": 6,
      "outputs": []
    },
    {
      "metadata": {},
      "cell_type": "markdown",
      "source": "# DATA VISUALIZATION\n"
    },
    {
      "metadata": {},
      "cell_type": "markdown",
      "source": "# BOXPLOT\n"
    },
    {
      "metadata": {
        "trusted": true
      },
      "cell_type": "code",
      "source": "AP=rainfall.where(rainfall['SUBDIVISION']=='TELANGANA').dropna()",
      "execution_count": 15,
      "outputs": []
    },
    {
      "metadata": {
        "trusted": true
      },
      "cell_type": "code",
      "source": "TN=rainfall.where(rainfall['SUBDIVISION']=='TAMIL NADU').dropna()",
      "execution_count": 16,
      "outputs": []
    },
    {
      "metadata": {},
      "cell_type": "markdown",
      "source": "# Displaying the Outliers"
    },
    {
      "metadata": {
        "trusted": true
      },
      "cell_type": "code",
      "source": "plt.boxplot(AP.iloc[:,14])",
      "execution_count": 17,
      "outputs": [
        {
          "output_type": "execute_result",
          "execution_count": 17,
          "data": {
            "text/plain": "{'boxes': [<matplotlib.lines.Line2D at 0x7fcd970ada20>],\n 'caps': [<matplotlib.lines.Line2D at 0x7fcd970b3518>,\n  <matplotlib.lines.Line2D at 0x7fcd970b3978>],\n 'fliers': [<matplotlib.lines.Line2D at 0x7fcd970b9278>],\n 'means': [],\n 'medians': [<matplotlib.lines.Line2D at 0x7fcd970b3dd8>],\n 'whiskers': [<matplotlib.lines.Line2D at 0x7fcd970adb70>,\n  <matplotlib.lines.Line2D at 0x7fcd970b30f0>]}"
          },
          "metadata": {}
        },
        {
          "output_type": "display_data",
          "data": {
            "image/png": "[encoded data removed]",
            "text/plain": "<matplotlib.figure.Figure at 0x7fcd970d83c8>"
          },
          "metadata": {}
        }
      ]
    },
    {
      "metadata": {},
      "cell_type": "markdown",
      "source": "# Removing Outliers"
    },
    {
      "metadata": {
        "trusted": true
      },
      "cell_type": "code",
      "source": "AP=(AP[AP['ANNUAL'].between(AP['ANNUAL'].quantile(.25),AP['ANNUAL'].quantile(.75))])",
      "execution_count": 20,
      "outputs": []
    },
    {
      "metadata": {
        "trusted": true
      },
      "cell_type": "code",
      "source": "plt.boxplot(AP.iloc[:,14])",
      "execution_count": 21,
      "outputs": [
        {
          "output_type": "execute_result",
          "execution_count": 21,
          "data": {
            "text/plain": "{'boxes': [<matplotlib.lines.Line2D at 0x7fcd96de8dd8>],\n 'caps': [<matplotlib.lines.Line2D at 0x7fcd96def908>,\n  <matplotlib.lines.Line2D at 0x7fcd96defd68>],\n 'fliers': [<matplotlib.lines.Line2D at 0x7fcd96df3668>],\n 'means': [],\n 'medians': [<matplotlib.lines.Line2D at 0x7fcd96df3208>],\n 'whiskers': [<matplotlib.lines.Line2D at 0x7fcd96de8f28>,\n  <matplotlib.lines.Line2D at 0x7fcd96def4a8>]}"
          },
          "metadata": {}
        },
        {
          "output_type": "display_data",
          "data": {
            "image/png": "[encoded data removed]",
            "text/plain": "<matplotlib.figure.Figure at 0x7fcd9709fe48>"
          },
          "metadata": {}
        }
      ]
    },
    {
      "metadata": {},
      "cell_type": "markdown",
      "source": "# With Outliers"
    },
    {
      "metadata": {},
      "cell_type": "markdown",
      "source": "# For TamilNadu State"
    },
    {
      "metadata": {
        "trusted": true
      },
      "cell_type": "code",
      "source": "plt.boxplot(TN.iloc[:,14])",
      "execution_count": 10,
      "outputs": [
        {
          "output_type": "execute_result",
          "execution_count": 10,
          "data": {
            "text/plain": "{'boxes': [<matplotlib.lines.Line2D at 0x7fcd9716b6d8>],\n 'caps': [<matplotlib.lines.Line2D at 0x7fcd97171208>,\n  <matplotlib.lines.Line2D at 0x7fcd97171668>],\n 'fliers': [<matplotlib.lines.Line2D at 0x7fcd97171f28>],\n 'means': [],\n 'medians': [<matplotlib.lines.Line2D at 0x7fcd97171ac8>],\n 'whiskers': [<matplotlib.lines.Line2D at 0x7fcd9716b828>,\n  <matplotlib.lines.Line2D at 0x7fcd9716bd68>]}"
          },
          "metadata": {}
        },
        {
          "output_type": "display_data",
          "data": {
            "image/png": "[encoded data removed]",
            "text/plain": "<matplotlib.figure.Figure at 0x7fcd971aca20>"
          },
          "metadata": {}
        }
      ]
    },
    {
      "metadata": {},
      "cell_type": "markdown",
      "source": "# Removing Outliers"
    },
    {
      "metadata": {
        "trusted": true
      },
      "cell_type": "code",
      "source": "TN=(TN[TN['ANNUAL'].between(TN['ANNUAL'].quantile(.25),TN['ANNUAL'].quantile(.75))])\n",
      "execution_count": 22,
      "outputs": []
    },
    {
      "metadata": {
        "trusted": true
      },
      "cell_type": "code",
      "source": "plt.boxplot(TN.iloc[:,14])",
      "execution_count": 23,
      "outputs": [
        {
          "output_type": "execute_result",
          "execution_count": 23,
          "data": {
            "text/plain": "{'boxes': [<matplotlib.lines.Line2D at 0x7fcd96daa2b0>],\n 'caps': [<matplotlib.lines.Line2D at 0x7fcd96daada0>,\n  <matplotlib.lines.Line2D at 0x7fcd96db0240>],\n 'fliers': [<matplotlib.lines.Line2D at 0x7fcd96db0b00>],\n 'means': [],\n 'medians': [<matplotlib.lines.Line2D at 0x7fcd96db06a0>],\n 'whiskers': [<matplotlib.lines.Line2D at 0x7fcd96daa400>,\n  <matplotlib.lines.Line2D at 0x7fcd96daa940>]}"
          },
          "metadata": {}
        },
        {
          "output_type": "display_data",
          "data": {
            "image/png": "[encoded data removed]",
            "text/plain": "<matplotlib.figure.Figure at 0x7fcd97055c50>"
          },
          "metadata": {}
        }
      ]
    },
    {
      "metadata": {},
      "cell_type": "markdown",
      "source": "# K MEANS CLUSTERING"
    },
    {
      "metadata": {
        "trusted": true
      },
      "cell_type": "code",
      "source": "kmeans = KMeans(n_clusters=2)\n",
      "execution_count": 24,
      "outputs": []
    },
    {
      "metadata": {
        "trusted": true
      },
      "cell_type": "code",
      "source": "data=pd.read_csv(\"rainfall_1.csv\")\ndata.head()",
      "execution_count": 25,
      "outputs": [
        {
          "output_type": "execute_result",
          "execution_count": 25,
          "data": {
            "text/html": "<div>\n<table border=\"1\" class=\"dataframe\">\n  <thead>\n    <tr style=\"text-align: right;\">\n      <th></th>\n      <th>STATE_UT_NAME</th>\n      <th>DISTRICT</th>\n      <th>JAN</th>\n      <th>FEB</th>\n      <th>MAR</th>\n      <th>APR</th>\n      <th>MAY</th>\n      <th>JUN</th>\n      <th>JUL</th>\n      <th>AUG</th>\n      <th>SEP</th>\n      <th>OCT</th>\n      <th>NOV</th>\n      <th>DEC</th>\n      <th>ANNUAL</th>\n      <th>Jan-Feb</th>\n      <th>Mar-May</th>\n      <th>Jun-Sep</th>\n      <th>Oct-Dec</th>\n    </tr>\n  </thead>\n  <tbody>\n    <tr>\n      <th>0</th>\n      <td>ANDAMAN And NICOBAR ISLANDS</td>\n      <td>NICOBAR</td>\n      <td>107.3</td>\n      <td>57.9</td>\n      <td>65.2</td>\n      <td>117.0</td>\n      <td>358.5</td>\n      <td>295.5</td>\n      <td>285.0</td>\n      <td>271.9</td>\n      <td>354.8</td>\n      <td>326.0</td>\n      <td>315.2</td>\n      <td>250.9</td>\n      <td>2805.2</td>\n      <td>165.2</td>\n      <td>540.7</td>\n      <td>1207.2</td>\n      <td>892.1</td>\n    </tr>\n    <tr>\n      <th>1</th>\n      <td>ANDAMAN And NICOBAR ISLANDS</td>\n      <td>SOUTH ANDAMAN</td>\n      <td>43.7</td>\n      <td>26.0</td>\n      <td>18.6</td>\n      <td>90.5</td>\n      <td>374.4</td>\n      <td>457.2</td>\n      <td>421.3</td>\n      <td>423.1</td>\n      <td>455.6</td>\n      <td>301.2</td>\n      <td>275.8</td>\n      <td>128.3</td>\n      <td>3015.7</td>\n      <td>69.7</td>\n      <td>483.5</td>\n      <td>1757.2</td>\n      <td>705.3</td>\n    </tr>\n    <tr>\n      <th>2</th>\n      <td>ANDAMAN And NICOBAR ISLANDS</td>\n      <td>N &amp; M ANDAMAN</td>\n      <td>32.7</td>\n      <td>15.9</td>\n      <td>8.6</td>\n      <td>53.4</td>\n      <td>343.6</td>\n      <td>503.3</td>\n      <td>465.4</td>\n      <td>460.9</td>\n      <td>454.8</td>\n      <td>276.1</td>\n      <td>198.6</td>\n      <td>100.0</td>\n      <td>2913.3</td>\n      <td>48.6</td>\n      <td>405.6</td>\n      <td>1884.4</td>\n      <td>574.7</td>\n    </tr>\n    <tr>\n      <th>3</th>\n      <td>ARUNACHAL PRADESH</td>\n      <td>LOHIT</td>\n      <td>42.2</td>\n      <td>80.8</td>\n      <td>176.4</td>\n      <td>358.5</td>\n      <td>306.4</td>\n      <td>447.0</td>\n      <td>660.1</td>\n      <td>427.8</td>\n      <td>313.6</td>\n      <td>167.1</td>\n      <td>34.1</td>\n      <td>29.8</td>\n      <td>3043.8</td>\n      <td>123.0</td>\n      <td>841.3</td>\n      <td>1848.5</td>\n      <td>231.0</td>\n    </tr>\n    <tr>\n      <th>4</th>\n      <td>ARUNACHAL PRADESH</td>\n      <td>EAST SIANG</td>\n      <td>33.3</td>\n      <td>79.5</td>\n      <td>105.9</td>\n      <td>216.5</td>\n      <td>323.0</td>\n      <td>738.3</td>\n      <td>990.9</td>\n      <td>711.2</td>\n      <td>568.0</td>\n      <td>206.9</td>\n      <td>29.5</td>\n      <td>31.7</td>\n      <td>4034.7</td>\n      <td>112.8</td>\n      <td>645.4</td>\n      <td>3008.4</td>\n      <td>268.1</td>\n    </tr>\n  </tbody>\n</table>\n</div>",
            "text/plain": "                 STATE_UT_NAME       DISTRICT    JAN   FEB    MAR    APR  \\\n0  ANDAMAN And NICOBAR ISLANDS        NICOBAR  107.3  57.9   65.2  117.0   \n1  ANDAMAN And NICOBAR ISLANDS  SOUTH ANDAMAN   43.7  26.0   18.6   90.5   \n2  ANDAMAN And NICOBAR ISLANDS  N & M ANDAMAN   32.7  15.9    8.6   53.4   \n3            ARUNACHAL PRADESH          LOHIT   42.2  80.8  176.4  358.5   \n4            ARUNACHAL PRADESH     EAST SIANG   33.3  79.5  105.9  216.5   \n\n     MAY    JUN    JUL    AUG    SEP    OCT    NOV    DEC  ANNUAL  Jan-Feb  \\\n0  358.5  295.5  285.0  271.9  354.8  326.0  315.2  250.9  2805.2    165.2   \n1  374.4  457.2  421.3  423.1  455.6  301.2  275.8  128.3  3015.7     69.7   \n2  343.6  503.3  465.4  460.9  454.8  276.1  198.6  100.0  2913.3     48.6   \n3  306.4  447.0  660.1  427.8  313.6  167.1   34.1   29.8  3043.8    123.0   \n4  323.0  738.3  990.9  711.2  568.0  206.9   29.5   31.7  4034.7    112.8   \n\n   Mar-May  Jun-Sep  Oct-Dec  \n0    540.7   1207.2    892.1  \n1    483.5   1757.2    705.3  \n2    405.6   1884.4    574.7  \n3    841.3   1848.5    231.0  \n4    645.4   3008.4    268.1  "
          },
          "metadata": {}
        }
      ]
    },
    {
      "metadata": {
        "trusted": true
      },
      "cell_type": "code",
      "source": "x=data['DISTRICT']\ny=data.iloc[:,[14,15,16,17,18]]",
      "execution_count": 26,
      "outputs": []
    },
    {
      "metadata": {
        "trusted": true
      },
      "cell_type": "code",
      "source": "kmeans = KMeans(n_clusters=5)\nkmeans.fit(y)",
      "execution_count": 27,
      "outputs": [
        {
          "output_type": "execute_result",
          "execution_count": 27,
          "data": {
            "text/plain": "KMeans(algorithm='auto', copy_x=True, init='k-means++', max_iter=300,\n    n_clusters=5, n_init=10, n_jobs=1, precompute_distances='auto',\n    random_state=None, tol=0.0001, verbose=0)"
          },
          "metadata": {}
        }
      ]
    },
    {
      "metadata": {
        "trusted": true
      },
      "cell_type": "code",
      "source": "print(len(kmeans.labels_))",
      "execution_count": 28,
      "outputs": [
        {
          "output_type": "stream",
          "text": "641\n",
          "name": "stdout"
        }
      ]
    },
    {
      "metadata": {
        "trusted": true
      },
      "cell_type": "code",
      "source": "clusters=[[],[],[],[],[]]\n\nfor i in range(641):\n    \n    clusters[kmeans.labels_[i]].append(x[i]) ",
      "execution_count": 29,
      "outputs": []
    },
    {
      "metadata": {
        "trusted": true
      },
      "cell_type": "code",
      "source": "a={}\nfor i in range(641):\n    a[x[i]]=list(y.iloc[i,:])",
      "execution_count": 30,
      "outputs": []
    },
    {
      "metadata": {
        "trusted": true
      },
      "cell_type": "code",
      "source": "for i in range(5):\n    for j in range(len(clusters[i])):\n        print((a[clusters[i][j]]) )\n    ",
      "execution_count": 31,
      "outputs": [
        {
          "output_type": "stream",
          "text": "[716.2, 4.1, 23.0, 594.2, 94.9]\n[949.1, 25.8, 28.9, 834.5, 59.9]\n[936.6, 20.4, 43.2, 820.4, 52.6]\n[975.4, 20.8, 28.1, 861.2, 65.3]\n[874.4, 22.7, 19.6, 789.7, 42.4]\n[902.6, 27.5, 17.8, 808.7, 48.6]\n[928.2, 19.2, 32.2, 827.2, 49.6]\n[943.2, 29.2, 22.9, 840.4, 50.7]\n[853.3, 26.2, 25.8, 743.4, 57.9]\n[915.2, 30.0, 20.5, 812.5, 52.2]\n[918.2, 31.3, 32.2, 787.9, 66.8]\n[968.1, 25.6, 23.3, 874.1, 45.1]\n[806.4, 28.7, 16.3, 696.8, 64.6]\n[885.3, 30.4, 23.6, 772.5, 58.8]\n[943.6, 25.1, 19.1, 851.8, 47.6]\n[853.0, 23.3, 16.4, 750.3, 63.0]\n[944.5, 21.9, 27.9, 840.7, 54.0]\n[907.2, 30.0, 21.3, 790.3, 65.6]\n[902.3, 27.0, 28.9, 776.7, 69.7]\n[861.7, 27.2, 18.9, 765.6, 50.0]\n[857.2, 24.9, 14.5, 765.0, 52.8]\n[949.6, 30.6, 27.2, 846.1, 45.7]\n[949.6, 30.6, 27.2, 846.1, 45.7]\n[774.6, 27.4, 22.2, 687.2, 37.8]\n[771.0, 32.1, 33.4, 655.7, 49.8]\n[996.6, 39.2, 36.9, 853.8, 66.7]\n[884.8, 29.5, 29.9, 758.0, 67.4]\n[779.0, 29.4, 31.0, 670.7, 47.9]\n[714.4, 25.0, 25.9, 615.3, 48.2]\n[829.6, 25.6, 22.2, 728.0, 53.8]\n[1428.2, 134.4, 128.9, 1078.9, 86.0]\n[871.5, 24.7, 15.8, 774.9, 56.1]\n[931.5, 24.6, 18.7, 837.9, 50.3]\n[748.4, 21.3, 21.8, 655.3, 50.0]\n[655.9, 20.5, 23.5, 579.9, 32.0]\n[918.0, 41.5, 39.8, 778.5, 58.2]\n[992.9, 44.3, 33.5, 855.2, 59.9]\n[869.1, 44.6, 34.6, 736.8, 53.1]\n[963.9, 53.4, 48.2, 804.6, 57.7]\n[766.3, 37.9, 36.6, 641.7, 50.1]\n[765.5, 24.2, 21.6, 676.3, 43.4]\n[853.1, 28.0, 13.4, 776.4, 35.3]\n[710.8, 21.9, 25.1, 625.4, 38.4]\n[811.9, 30.0, 21.7, 700.0, 60.2]\n[646.1, 33.6, 33.7, 545.3, 33.5]\n[917.4, 38.5, 34.2, 783.0, 61.7]\n[669.3, 28.5, 23.4, 572.8, 44.6]\n[818.4, 26.0, 29.0, 701.5, 61.9]\n[544.0, 21.9, 27.3, 472.3, 22.5]\n[401.4, 23.2, 31.6, 325.1, 21.5]\n[509.1, 35.1, 32.7, 415.6, 25.7]\n[714.4, 51.7, 41.4, 577.0, 44.3]\n[476.2, 22.7, 33.6, 395.4, 24.5]\n[618.0, 36.1, 46.8, 508.0, 27.1]\n[419.5, 25.0, 24.8, 348.5, 21.2]\n[697.6, 28.8, 37.2, 600.2, 31.4]\n[691.4, 48.1, 41.5, 563.0, 38.8]\n[313.5, 22.6, 27.7, 242.1, 21.1]\n[644.2, 35.0, 40.7, 534.3, 34.2]\n[466.5, 32.9, 26.6, 384.0, 23.0]\n[624.1, 36.4, 32.0, 521.7, 34.0]\n[492.2, 17.8, 18.1, 435.8, 20.5]\n[364.6, 27.7, 32.9, 283.0, 21.0]\n[489.0, 24.9, 27.8, 417.3, 19.0]\n[572.0, 19.0, 21.3, 501.8, 29.9]\n[508.1, 17.0, 17.9, 446.9, 26.3]\n[747.1, 32.7, 43.5, 636.2, 34.7]\n[747.1, 32.7, 43.5, 636.2, 34.7]\n[747.1, 32.7, 43.5, 636.2, 34.7]\n[747.1, 32.7, 43.5, 636.2, 34.7]\n[747.1, 32.7, 43.5, 636.2, 34.7]\n[747.1, 32.7, 43.5, 636.2, 34.7]\n[747.1, 32.7, 43.5, 636.2, 34.7]\n[747.1, 32.7, 43.5, 636.2, 34.7]\n[747.1, 32.7, 43.5, 636.2, 34.7]\n[721.7, 59.4, 73.4, 537.6, 51.3]\n[407.9, 28.9, 30.7, 321.0, 27.3]\n[455.6, 30.2, 46.0, 352.3, 27.1]\n[933.1, 78.2, 76.2, 717.9, 60.8]\n[719.1, 57.2, 64.6, 551.5, 45.8]\n[568.0, 48.6, 49.4, 422.6, 47.4]\n[685.6, 50.4, 55.2, 534.2, 45.8]\n[752.0, 51.4, 45.5, 615.2, 39.9]\n[956.5, 80.5, 91.5, 728.5, 56.0]\n[557.4, 37.6, 45.0, 436.8, 38.0]\n[415.6, 30.4, 39.0, 325.1, 21.1]\n[460.6, 34.7, 40.4, 354.0, 31.5]\n[1005.6, 78.7, 73.7, 788.6, 64.6]\n[683.1, 46.7, 46.3, 547.1, 43.0]\n[399.5, 29.4, 36.1, 311.8, 22.2]\n[419.8, 30.7, 27.4, 334.8, 26.9]\n[449.4, 31.6, 31.1, 355.6, 31.1]\n[818.7, 58.1, 67.9, 644.5, 48.2]\n[449.2, 36.3, 44.3, 336.8, 31.8]\n[836.4, 209.9, 260.7, 264.2, 101.6]\n[1088.1, 183.9, 286.8, 519.7, 97.7]\n[1248.8, 269.9, 377.2, 458.2, 143.5]\n[1041.4, 139.4, 193.3, 633.9, 74.8]\n[969.6, 183.9, 367.2, 285.1, 133.4]\n[1132.0, 273.1, 446.9, 247.7, 164.3]\n[1335.5, 281.2, 441.4, 441.4, 171.5]\n[94.6, 15.4, 24.8, 39.6, 14.8]\n[671.7, 122.5, 274.2, 186.4, 88.6]\n[1132.7, 213.4, 495.0, 253.2, 171.1]\n[504.6, 90.7, 207.5, 151.4, 55.0]\n[673.6, 125.5, 258.8, 184.3, 105.0]\n[223.3, 51.2, 66.8, 49.7, 55.6]\n[957.2, 126.0, 111.7, 649.5, 70.0]\n[700.4, 162.0, 272.5, 168.6, 97.3]\n[673.6, 125.5, 258.8, 184.3, 105.0]\n[878.9, 146.5, 369.6, 268.9, 93.9]\n[818.7, 121.4, 331.2, 265.7, 100.4]\n[1335.5, 281.2, 441.4, 441.4, 171.5]\n[1328.4, 335.3, 409.5, 400.6, 183.0]\n[268.6, 2.9, 14.6, 243.4, 7.7]\n[274.0, 11.9, 24.1, 228.7, 9.3]\n[369.6, 13.6, 27.6, 313.7, 14.7]\n[252.9, 14.0, 27.9, 201.4, 9.6]\n[181.2, 4.6, 12.6, 158.4, 5.6]\n[427.1, 2.9, 12.2, 394.2, 17.8]\n[308.1, 6.0, 19.0, 274.5, 8.6]\n[394.1, 9.6, 22.7, 348.5, 13.3]\n[485.7, 6.2, 15.1, 446.7, 17.7]\n[301.6, 16.1, 23.6, 252.5, 9.4]\n[462.2, 5.7, 13.2, 429.6, 13.7]\n[630.9, 19.8, 26.9, 555.3, 28.9]\n[883.0, 3.3, 7.7, 831.8, 40.2]\n[621.1, 18.2, 20.3, 557.6, 25.0]\n[630.2, 8.6, 17.3, 580.9, 23.4]\n[705.6, 8.9, 12.2, 655.9, 28.6]\n[765.3, 5.8, 16.1, 709.7, 33.7]\n[677.8, 2.3, 7.6, 637.8, 30.1]\n[577.2, 14.2, 21.3, 524.6, 17.1]\n[920.2, 9.1, 11.8, 855.1, 44.2]\n[481.0, 16.8, 32.0, 410.0, 22.2]\n[807.9, 10.0, 12.6, 746.3, 39.0]\n[721.0, 13.7, 15.6, 664.0, 27.7]\n[463.8, 15.5, 28.0, 402.5, 17.8]\n[913.4, 5.6, 16.0, 868.6, 23.2]\n[613.9, 10.3, 15.8, 566.0, 21.8]\n[639.7, 4.8, 14.7, 591.3, 28.9]\n[722.1, 18.1, 18.1, 650.0, 35.9]\n[852.7, 10.3, 11.0, 792.2, 39.2]\n[674.8, 15.7, 21.1, 612.1, 25.9]\n[554.5, 6.2, 18.6, 506.0, 23.7]\n[696.2, 16.8, 15.8, 637.4, 26.2]\n[915.3, 4.8, 12.5, 845.8, 52.2]\n[763.4, 17.5, 10.1, 685.5, 50.3]\n[860.2, 17.6, 15.0, 775.8, 51.8]\n[886.1, 4.3, 6.3, 826.8, 48.7]\n[885.9, 23.1, 17.4, 790.6, 54.8]\n[917.3, 8.2, 11.3, 839.7, 58.1]\n[812.8, 2.9, 9.6, 745.3, 55.0]\n[850.1, 6.7, 11.3, 780.0, 52.1]\n[777.0, 19.2, 14.4, 708.2, 35.2]\n[940.0, 11.4, 17.5, 850.8, 60.3]\n[826.9, 7.8, 10.6, 758.5, 50.0]\n[966.7, 14.0, 11.8, 890.2, 50.7]\n[947.8, 6.6, 9.2, 871.3, 60.7]\n[949.4, 13.5, 12.4, 873.9, 49.6]\n[859.4, 19.8, 12.8, 779.8, 47.0]\n[905.7, 8.5, 8.2, 833.7, 55.3]\n[813.8, 7.3, 12.1, 747.4, 47.0]\n[791.9, 13.1, 13.3, 727.4, 38.1]\n[701.2, 3.7, 10.0, 635.4, 52.1]\n[926.7, 13.7, 5.5, 865.1, 42.4]\n[889.1, 7.1, 25.0, 784.2, 72.8]\n[863.6, 6.1, 11.7, 799.0, 46.8]\n[938.5, 27.2, 11.2, 853.2, 46.9]\n[921.2, 23.0, 16.0, 832.3, 49.9]\n[639.9, 1.1, 7.1, 602.6, 29.1]\n[598.4, 2.7, 7.0, 563.5, 25.2]\n[824.9, 0.4, 5.8, 786.2, 32.5]\n[850.1, 1.6, 6.2, 811.6, 30.7]\n[692.7, 1.9, 7.7, 655.7, 27.4]\n[816.3, 1.7, 8.2, 778.7, 27.7]\n[752.7, 1.5, 7.9, 715.6, 27.7]\n[834.6, 1.5, 5.7, 788.9, 38.5]\n[539.6, 2.0, 5.6, 513.9, 18.1]\n[903.6, 2.0, 6.8, 853.3, 41.5]\n[567.3, 0.8, 4.8, 518.2, 43.5]\n[578.3, 0.8, 4.2, 537.7, 35.6]\n[498.0, 1.6, 4.5, 462.4, 29.5]\n[830.4, 0.9, 1.6, 787.2, 40.7]\n[388.8, 1.3, 4.7, 361.3, 21.5]\n[579.1, 0.3, 4.2, 540.1, 34.5]\n[534.6, 0.2, 5.1, 499.8, 29.5]\n[716.6, 1.4, 3.0, 672.7, 39.5]\n[697.3, 1.4, 1.5, 646.7, 47.7]\n[573.2, 1.9, 29.9, 437.6, 103.8]\n[607.2, 3.5, 15.1, 523.5, 65.1]\n[730.9, 5.7, 13.2, 641.8, 70.2]\n[730.6, 2.5, 80.9, 508.1, 139.1]\n[912.5, 1.4, 53.5, 723.8, 133.8]\n[646.5, 4.2, 42.4, 474.2, 125.7]\n[890.7, 1.0, 11.1, 828.4, 50.2]\n[716.2, 4.1, 23.0, 594.2, 94.9]\n[708.4, 4.5, 30.5, 569.4, 104.0]\n[961.1, 9.4, 33.1, 816.4, 102.2]\n[779.3, 6.0, 37.7, 623.4, 112.2]\n[897.0, 8.7, 29.8, 757.2, 101.3]\n[910.0, 8.0, 40.4, 752.5, 109.1]\n[729.7, 5.2, 24.7, 606.4, 93.4]\n[979.4, 9.8, 26.7, 849.1, 93.8]\n[815.4, 13.9, 22.9, 702.3, 76.3]\n[897.4, 16.4, 17.9, 786.6, 76.5]\n[746.9, 7.6, 17.0, 646.6, 75.7]\n[982.8, 13.2, 30.6, 855.0, 84.0]\n[940.9, 14.7, 20.7, 825.6, 79.9]\n[1106.0, 16.1, 109.4, 703.9, 276.6]\n[871.5, 13.2, 81.1, 543.0, 234.2]\n[1027.1, 10.9, 72.4, 701.4, 242.4]\n[1091.6, 27.3, 72.6, 352.4, 639.3]\n[805.9, 16.7, 77.7, 382.5, 329.0]\n[1120.7, 19.6, 158.9, 674.4, 267.8]\n[851.3, 13.3, 68.8, 643.5, 125.7]\n[979.8, 16.4, 50.5, 800.3, 112.6]\n[731.1, 4.7, 56.3, 559.7, 110.4]\n[922.3, 11.4, 56.3, 743.9, 110.7]\n[760.5, 8.4, 53.0, 554.7, 144.4]\n[986.9, 16.1, 55.2, 796.6, 119.0]\n[841.8, 7.1, 63.1, 653.7, 117.9]\n[572.7, 6.3, 81.7, 322.8, 161.9]\n[898.2, 15.3, 102.9, 417.1, 362.9]\n[716.9, 4.3, 69.6, 404.1, 238.9]\n[679.6, 3.1, 75.7, 460.2, 140.6]\n[936.2, 14.9, 106.5, 466.1, 348.7]\n[689.3, 20.3, 150.3, 189.8, 328.9]\n[902.1, 18.2, 160.4, 393.4, 330.1]\n[1302.5, 40.4, 288.3, 477.4, 496.4]\n[1324.2, 36.7, 58.5, 439.1, 789.9]\n[927.9, 28.1, 144.8, 335.9, 419.1]\n[807.8, 51.3, 115.5, 149.3, 491.7]\n[997.9, 16.0, 170.8, 440.6, 370.5]\n[1013.1, 42.3, 102.1, 318.4, 550.3]\n[818.0, 22.7, 109.9, 293.9, 391.5]\n[845.1, 69.3, 166.2, 142.4, 467.2]\n[702.9, 16.1, 142.4, 229.8, 314.6]\n[887.4, 33.1, 97.5, 350.6, 406.2]\n[930.7, 30.9, 168.0, 295.4, 436.4]\n[820.1, 42.8, 161.5, 196.8, 419.0]\n[872.8, 27.9, 121.2, 301.0, 422.7]\n[656.3, 42.8, 111.6, 74.9, 427.0]\n[1040.0, 26.5, 98.9, 468.1, 446.5]\n[1393.3, 85.7, 80.5, 286.1, 941.0]\n[1011.6, 28.2, 76.0, 408.3, 499.1]\n[1206.7, 44.1, 81.7, 383.1, 697.8]\n[1227.7, 29.1, 66.0, 490.8, 641.8]\n[1139.6, 31.5, 67.2, 451.6, 589.3]\n[720.0, 35.4, 168.3, 158.4, 357.9]\n[793.4, 13.9, 148.6, 339.3, 291.6]\n[655.0, 17.5, 109.2, 213.6, 314.7]\n[861.9, 21.4, 108.9, 290.7, 440.9]\n[1173.3, 60.1, 97.7, 296.4, 719.1]\n[850.7, 10.7, 151.6, 399.0, 289.4]\n[1071.8, 32.5, 101.8, 392.0, 545.5]\n[618.2, 14.0, 135.1, 154.8, 314.3]\n[1336.5, 37.5, 70.9, 385.0, 843.1]\n[1504.4, 96.2, 66.6, 293.1, 1048.5]\n[1336.5, 37.5, 70.9, 385.0, 843.1]\n[1336.5, 37.5, 70.9, 385.0, 843.1]\n[839.2, 1.6, 111.2, 574.1, 152.3]\n[890.7, 12.0, 63.2, 694.9, 120.6]\n[656.4, 5.1, 71.8, 436.0, 143.5]\n[791.7, 5.5, 136.0, 484.0, 166.2]\n[820.6, 7.2, 62.3, 620.5, 130.6]\n[834.5, 8.0, 62.5, 610.8, 153.2]\n[665.1, 3.4, 62.3, 461.6, 137.8]\n[597.0, 3.3, 85.3, 363.3, 145.1]\n[641.2, 2.2, 109.1, 368.3, 161.6]\n[791.9, 0.8, 126.1, 495.1, 169.9]\n[598.3, 1.6, 72.2, 382.6, 141.9]\n[837.0, 7.5, 136.9, 451.9, 240.7]\n[622.8, 2.8, 87.0, 376.0, 157.0]\n[527.7, 2.6, 95.1, 271.0, 159.0]\n[967.1, 3.8, 168.0, 574.3, 221.0]\n[731.1, 7.2, 112.6, 382.7, 228.6]\n[662.7, 5.5, 158.0, 285.1, 214.1]\n[758.6, 6.0, 194.7, 343.6, 214.3]\n[698.5, 5.4, 128.2, 359.2, 205.7]\n[870.0, 9.0, 153.7, 475.7, 231.6]\n[788.4, 9.4, 213.6, 320.6, 244.8]\n[676.7, 1.9, 113.2, 384.9, 176.7]\n[883.7, 6.2, 180.4, 454.0, 243.1]\n[748.5, 6.7, 104.8, 411.8, 225.2]\n[2805.2, 165.2, 540.7, 1207.2, 892.1]\n[3015.7, 69.7, 483.5, 1757.2, 705.3]\n[2913.3, 48.6, 405.6, 1884.4, 574.7]\n[3043.8, 123.0, 841.3, 1848.5, 231.0]\n[3043.8, 123.0, 841.3, 1848.5, 231.0]\n[2553.3, 237.6, 955.1, 1073.4, 287.2]\n[2440.7, 92.7, 545.5, 1612.5, 190.0]\n[2553.3, 237.6, 955.1, 1073.4, 287.2]\n[2030.9, 123.4, 461.4, 1246.3, 199.8]\n[2221.5, 152.7, 645.3, 1256.5, 167.0]\n[2999.2, 63.5, 817.2, 1889.9, 228.6]\n[1957.8, 34.5, 542.3, 1259.1, 121.9]\n[2575.3, 33.1, 647.5, 1710.1, 184.6]\n[2859.3, 76.3, 574.1, 2025.2, 183.7]\n[1977.5, 64.2, 674.8, 988.8, 249.7]\n[2702.6, 22.0, 585.7, 1916.5, 178.4]\n[2556.6, 83.7, 642.1, 1651.4, 179.4]\n[2083.0, 58.9, 562.1, 1299.1, 162.9]\n[1978.5, 42.5, 478.4, 1314.4, 143.2]\n[2485.3, 85.0, 619.8, 1617.8, 162.7]\n[2645.6, 49.3, 779.0, 1621.1, 196.2]\n[2859.3, 76.3, 574.1, 2025.2, 183.7]\n[1957.8, 34.5, 542.3, 1259.1, 121.9]\n[2356.6, 33.5, 622.0, 1564.3, 136.8]\n[2554.4, 21.6, 660.6, 1671.5, 200.7]\n[2116.9, 31.3, 446.2, 1479.5, 159.9]\n[2459.8, 17.5, 579.6, 1681.5, 181.2]\n[2459.8, 17.5, 579.6, 1681.5, 181.2]\n[1922.6, 43.2, 370.6, 1281.0, 227.8]\n[2647.5, 36.4, 293.2, 2007.1, 310.8]\n[2127.5, 104.5, 379.8, 1334.3, 308.9]\n[2337.4, 44.1, 498.0, 1560.6, 234.7]\n[2814.4, 45.0, 645.1, 1788.0, 336.3]\n[2168.6, 35.2, 467.2, 1352.5, 313.7]\n[2660.0, 53.4, 631.5, 1692.5, 282.6]\n[2731.1, 27.3, 517.6, 1866.3, 319.9]\n[2814.4, 45.0, 645.1, 1788.0, 336.3]\n[2557.6, 35.8, 509.4, 1705.7, 306.7]\n[2814.4, 45.0, 645.1, 1788.0, 336.3]\n[2480.6, 37.7, 521.8, 1622.6, 298.5]\n[2505.8, 49.2, 548.8, 1650.4, 257.4]\n[2080.0, 50.5, 468.6, 1386.1, 174.8]\n[2409.8, 54.5, 486.3, 1676.1, 192.9]\n[2497.7, 62.5, 566.6, 1668.7, 199.9]\n[2080.0, 50.5, 468.6, 1386.1, 174.8]\n[2080.0, 50.5, 468.6, 1386.1, 174.8]\n[2080.0, 50.5, 468.6, 1386.1, 174.8]\n[2641.8, 50.8, 831.3, 1527.7, 232.0]\n[2475.4, 38.7, 583.2, 1624.2, 229.3]\n[2286.7, 37.5, 626.2, 1396.3, 226.7]\n[2512.6, 52.5, 783.1, 1440.7, 236.3]\n[3094.5, 160.1, 793.2, 1810.3, 330.9]\n[2582.2, 89.6, 528.9, 1771.2, 192.5]\n[3094.5, 160.1, 793.2, 1810.3, 330.9]\n[2582.2, 89.6, 528.9, 1771.2, 192.5]\n[2088.0, 40.3, 204.7, 1552.6, 290.4]\n[2090.6, 18.4, 224.9, 1755.5, 91.8]\n[2123.9, 101.0, 124.8, 1802.1, 96.0]\n[2098.0, 107.7, 205.3, 1687.9, 97.1]\n[2150.9, 148.9, 234.2, 1671.1, 96.7]\n[1997.1, 239.0, 224.9, 1406.4, 126.8]\n[2019.8, 163.2, 169.9, 1582.1, 104.6]\n[1973.9, 228.8, 240.2, 1377.2, 127.7]\n[2021.7, 0.8, 6.8, 1951.3, 62.8]\n[2063.0, 2.5, 17.3, 1961.7, 81.5]\n[1866.4, 0.7, 8.0, 1803.3, 54.4]\n[2374.1, 0.7, 7.4, 2316.9, 49.1]\n[2374.1, 0.7, 7.4, 2316.9, 49.1]\n[2257.5, 2.0, 19.4, 2142.4, 93.7]\n[2542.1, 0.5, 14.9, 2428.3, 98.4]\n[2257.5, 2.0, 19.4, 2142.4, 93.7]\n[1992.8, 1.8, 90.7, 1737.6, 162.7]\n[2077.5, 3.6, 178.1, 1657.3, 238.5]\n[2741.4, 7.7, 261.0, 2181.9, 290.8]\n[2841.2, 45.4, 477.8, 1745.9, 572.1]\n[3029.9, 32.0, 443.6, 2065.0, 489.3]\n[2930.5, 37.9, 460.2, 1897.3, 535.1]\n[2835.1, 5.6, 320.8, 2060.4, 448.3]\n[2290.0, 9.4, 279.9, 1572.7, 428.0]\n[2491.7, 51.2, 469.6, 1332.3, 638.6]\n[2958.4, 65.0, 553.5, 1715.7, 624.2]\n[1300.4, 76.3, 327.3, 788.4, 108.4]\n[1921.1, 206.8, 562.9, 996.2, 155.2]\n[1813.4, 32.8, 503.7, 1147.7, 129.2]\n[1660.1, 34.5, 348.3, 1124.9, 152.4]\n[1811.6, 53.3, 461.9, 1169.5, 126.9]\n[1680.7, 46.4, 446.7, 1049.6, 138.0]\n[1341.0, 36.9, 299.5, 867.0, 137.6]\n[1813.4, 32.8, 503.7, 1147.7, 129.2]\n[1743.5, 43.1, 337.5, 1215.5, 147.4]\n[1839.2, 47.8, 438.9, 1164.2, 188.3]\n[1549.0, 50.6, 255.7, 1057.5, 185.2]\n[1286.3, 41.5, 279.4, 833.6, 131.8]\n[1530.9, 53.3, 307.5, 971.8, 198.3]\n[1824.8, 41.1, 307.6, 1308.0, 168.1]\n[1305.9, 18.8, 286.8, 815.3, 185.0]\n[1339.9, 46.6, 380.0, 823.9, 89.4]\n[1824.8, 41.1, 307.6, 1308.0, 168.1]\n[1824.8, 41.1, 307.6, 1308.0, 168.1]\n[1419.4, 24.1, 155.5, 1117.3, 122.5]\n[1584.9, 22.2, 245.7, 1185.9, 131.1]\n[1727.6, 23.5, 206.6, 1394.5, 103.0]\n[1330.9, 30.0, 125.2, 1051.2, 124.5]\n[1392.8, 29.5, 130.8, 1106.0, 126.5]\n[1315.2, 32.9, 136.4, 1028.7, 117.2]\n[1418.7, 38.5, 187.3, 1067.9, 125.0]\n[1600.0, 37.1, 211.0, 1211.4, 140.5]\n[1363.3, 35.0, 118.0, 1094.5, 115.8]\n[1391.1, 28.0, 140.0, 1079.3, 143.8]\n[1261.6, 29.8, 158.4, 955.0, 118.4]\n[1559.8, 33.4, 195.2, 1172.8, 158.4]\n[1669.6, 34.5, 174.6, 1220.3, 240.2]\n[1535.5, 36.3, 203.4, 1166.1, 129.7]\n[1709.2, 39.1, 200.0, 1281.1, 189.0]\n[1679.0, 47.9, 218.5, 1177.1, 235.5]\n[1370.8, 27.0, 80.3, 1174.1, 89.4]\n[1448.3, 38.9, 134.2, 1122.3, 152.9]\n[1519.7, 41.6, 146.4, 1162.5, 169.2]\n[1469.0, 28.1, 140.9, 1144.4, 155.6]\n[1304.5, 36.0, 157.1, 833.4, 278.0]\n[1403.0, 19.8, 85.1, 1207.6, 90.5]\n[1436.7, 48.0, 188.4, 1056.5, 143.8]\n[1622.5, 17.5, 158.9, 1262.8, 183.3]\n[1660.7, 36.6, 219.5, 1255.9, 148.7]\n[1416.2, 41.9, 101.8, 1021.5, 251.0]\n[1533.5, 32.0, 68.1, 1361.1, 72.3]\n[1347.8, 35.6, 72.0, 1175.9, 64.3]\n[1507.4, 44.0, 194.6, 1069.9, 198.9]\n[1541.3, 39.0, 173.4, 1154.8, 174.1]\n[1540.6, 41.0, 155.5, 1088.5, 255.6]\n[1362.0, 26.0, 110.2, 1109.4, 116.4]\n[1197.4, 24.3, 74.8, 1017.2, 81.1]\n[1572.7, 7.3, 107.3, 1324.1, 134.0]\n[1660.5, 18.5, 172.4, 1347.3, 122.3]\n[1450.1, 36.1, 115.9, 1095.2, 202.9]\n[1469.5, 36.0, 125.8, 1088.0, 219.7]\n[1264.9, 23.6, 52.4, 1125.8, 63.1]\n[1474.3, 37.8, 73.6, 1281.8, 81.1]\n[1533.5, 32.0, 68.1, 1361.1, 72.3]\n[1326.9, 35.5, 188.5, 960.5, 142.4]\n[1462.1, 44.5, 280.1, 930.3, 207.2]\n[1565.0, 39.7, 183.7, 1120.8, 220.8]\n[1448.3, 38.9, 134.2, 1122.3, 152.9]\n[1395.4, 20.3, 63.2, 1243.4, 68.5]\n[1247.5, 25.5, 75.5, 1048.2, 98.3]\n[1355.2, 29.4, 87.3, 1122.3, 116.2]\n[1381.5, 29.9, 112.3, 1096.9, 142.4]\n[1196.0, 29.4, 62.0, 1005.9, 98.7]\n[1095.9, 30.1, 33.0, 974.5, 58.3]\n[1403.2, 48.7, 93.6, 1160.2, 100.7]\n[1553.7, 19.2, 119.8, 1299.3, 115.4]\n[1305.6, 34.7, 103.7, 1088.4, 78.8]\n[1162.1, 25.5, 71.1, 976.2, 89.3]\n[1252.7, 21.4, 72.3, 1065.0, 94.0]\n[1144.4, 21.4, 86.0, 943.2, 93.8]\n[1421.3, 42.6, 91.7, 1197.0, 90.0]\n[1197.1, 35.0, 77.9, 1005.0, 79.2]\n[1171.9, 37.9, 34.8, 1031.3, 67.9]\n[1116.2, 33.1, 51.5, 929.6, 102.0]\n[1612.4, 27.4, 135.5, 1286.2, 163.3]\n[1292.7, 33.1, 115.9, 1057.6, 86.1]\n[1041.8, 25.6, 27.9, 927.8, 60.5]\n[1359.6, 39.1, 97.5, 1135.5, 87.5]\n[1476.0, 35.1, 101.2, 1193.8, 145.9]\n[1191.5, 35.2, 52.1, 1021.8, 82.4]\n[1573.1, 38.0, 74.4, 1383.1, 77.6]\n[1482.8, 47.0, 87.0, 1251.1, 97.7]\n[1248.3, 27.5, 81.3, 1053.8, 85.7]\n[1207.9, 28.2, 98.9, 977.3, 103.5]\n[1197.7, 22.4, 70.1, 1021.6, 83.6]\n[1123.6, 25.5, 93.5, 924.6, 80.0]\n[1003.9, 25.5, 32.8, 878.7, 66.9]\n[1146.8, 19.9, 69.2, 974.0, 83.7]\n[1154.5, 22.3, 74.6, 981.1, 76.5]\n[1472.0, 29.4, 87.4, 1275.0, 80.2]\n[1598.2, 18.1, 168.2, 1313.3, 98.6]\n[1135.5, 25.4, 51.1, 989.9, 69.1]\n[1293.3, 20.6, 119.4, 1059.5, 93.8]\n[1090.7, 16.5, 79.4, 921.6, 73.2]\n[1051.5, 25.9, 42.1, 924.4, 59.1]\n[1002.2, 20.8, 43.1, 876.8, 61.5]\n[1074.8, 22.4, 44.1, 941.3, 67.0]\n[1342.7, 19.7, 129.8, 1109.9, 83.3]\n[1233.9, 13.7, 69.4, 1057.7, 93.1]\n[1123.8, 25.7, 53.4, 973.5, 71.2]\n[1392.7, 21.4, 126.4, 1153.5, 91.4]\n[1041.8, 22.5, 49.3, 896.6, 73.4]\n[1192.3, 23.2, 68.8, 1025.2, 75.1]\n[1293.1, 18.2, 107.0, 1084.4, 83.5]\n[1135.4, 27.7, 46.8, 1004.2, 56.7]\n[1176.5, 23.7, 48.6, 1021.6, 82.6]\n[1632.2, 21.8, 166.7, 1347.0, 96.7]\n[1054.5, 19.4, 73.3, 865.9, 95.9]\n[1126.3, 42.8, 34.1, 995.1, 54.3]\n[1107.3, 18.3, 53.5, 951.8, 83.7]\n[1008.4, 21.9, 51.4, 865.7, 69.4]\n[1273.8, 16.3, 119.0, 1055.6, 82.9]\n[1146.8, 19.9, 69.2, 974.0, 83.7]\n[1293.1, 18.2, 107.0, 1084.4, 83.5]\n[1692.9, 17.0, 159.5, 1408.1, 108.3]\n[1058.3, 22.8, 30.4, 952.7, 52.4]\n[1148.6, 36.8, 54.4, 993.8, 63.6]\n[1055.4, 31.3, 31.7, 930.5, 61.9]\n[1062.7, 25.8, 37.1, 943.6, 56.2]\n[1087.0, 31.5, 41.9, 950.9, 62.7]\n[1114.0, 31.1, 30.5, 989.7, 62.7]\n[995.8, 25.1, 26.6, 883.0, 61.1]\n[1160.1, 26.3, 36.9, 1027.2, 69.7]\n[1338.3, 29.8, 49.6, 1175.5, 83.4]\n[1085.3, 37.6, 47.4, 926.1, 74.2]\n[1003.2, 30.6, 24.1, 901.1, 47.4]\n[1003.3, 30.6, 35.6, 864.8, 72.3]\n[1037.6, 32.9, 26.0, 923.5, 55.2]\n[1025.1, 32.0, 28.5, 916.9, 47.7]\n[1389.1, 27.4, 64.8, 1214.1, 82.8]\n[1121.3, 24.8, 33.9, 1004.7, 57.9]\n[1145.7, 25.9, 37.1, 1009.9, 72.8]\n[1326.6, 25.4, 59.7, 1158.4, 83.1]\n[1013.3, 25.8, 32.6, 904.8, 50.1]\n[1247.9, 35.7, 56.1, 1071.7, 84.4]\n[986.3, 29.3, 20.2, 885.9, 50.9]\n[1110.6, 24.9, 36.4, 990.7, 58.6]\n[1148.6, 36.8, 54.4, 993.8, 63.6]\n[1083.1, 59.2, 51.4, 914.2, 58.3]\n[1034.6, 30.4, 16.7, 939.3, 48.2]\n[1155.4, 37.8, 43.1, 988.6, 85.9]\n[1057.6, 44.2, 48.8, 915.5, 49.1]\n[1010.8, 34.4, 38.0, 859.2, 79.2]\n[1157.3, 93.0, 119.6, 858.4, 86.3]\n[1267.0, 135.2, 194.2, 859.3, 78.3]\n[1464.0, 76.3, 93.2, 1213.5, 81.0]\n[1743.7, 87.0, 113.0, 1439.1, 104.6]\n[1385.0, 106.8, 143.9, 1047.1, 87.2]\n[1625.7, 143.7, 235.5, 1148.6, 97.9]\n[1143.9, 68.9, 64.4, 961.9, 48.7]\n[1623.9, 82.8, 113.1, 1319.7, 108.3]\n[1313.9, 49.0, 57.6, 1119.9, 87.4]\n[1157.3, 93.0, 119.6, 858.4, 86.3]\n[1104.7, 70.5, 53.5, 916.6, 64.1]\n[1107.0, 77.4, 73.4, 892.1, 64.1]\n[1148.2, 81.0, 67.2, 950.4, 49.6]\n[1070.6, 83.2, 78.1, 844.2, 65.1]\n[1112.5, 109.9, 100.8, 827.8, 74.0]\n[1229.0, 34.6, 51.0, 1067.8, 75.6]\n[1506.9, 138.6, 194.3, 1093.4, 80.6]\n[1428.2, 134.4, 128.9, 1078.9, 86.0]\n[1618.3, 111.7, 94.7, 1324.6, 87.3]\n[1366.2, 137.8, 139.3, 1000.1, 89.0]\n[1110.7, 91.4, 84.9, 862.7, 71.7]\n[1211.3, 122.9, 146.0, 860.5, 81.9]\n[1268.2, 144.7, 77.9, 982.0, 63.6]\n[1474.1, 263.1, 327.1, 760.5, 123.4]\n[1211.3, 122.9, 146.0, 860.5, 81.9]\n[1796.5, 194.5, 168.1, 1322.6, 111.3]\n[1028.8, 16.0, 21.6, 918.5, 72.7]\n[1084.8, 22.2, 10.9, 1005.0, 46.7]\n[1031.4, 11.5, 11.3, 949.8, 58.8]\n[1028.3, 19.2, 17.6, 943.0, 48.5]\n[1392.2, 20.1, 20.4, 1289.1, 62.6]\n[1200.5, 19.6, 14.6, 1114.8, 51.5]\n[1152.6, 15.8, 12.4, 1067.5, 56.9]\n[1087.7, 18.8, 18.7, 998.6, 51.6]\n[1128.3, 15.2, 10.4, 1042.3, 60.4]\n[1481.6, 36.2, 28.9, 1334.6, 81.9]\n[1081.4, 30.2, 14.4, 985.0, 51.8]\n[1021.6, 32.2, 34.1, 882.8, 72.5]\n[1192.4, 29.6, 22.7, 1090.3, 49.8]\n[1397.0, 47.3, 39.9, 1245.8, 64.0]\n[1146.4, 21.4, 13.8, 1067.1, 44.1]\n[1171.7, 37.3, 15.3, 1072.1, 47.0]\n[1068.5, 31.9, 18.1, 971.7, 46.8]\n[1192.2, 30.0, 19.2, 1088.1, 54.9]\n[1056.1, 38.8, 17.9, 953.2, 46.2]\n[1191.8, 37.1, 42.1, 1038.4, 74.2]\n[1109.9, 42.6, 25.8, 994.7, 46.8]\n[1127.0, 35.4, 24.4, 1016.4, 50.8]\n[1141.1, 33.6, 14.6, 1051.3, 41.6]\n[1336.7, 39.0, 27.9, 1205.9, 63.9]\n[1235.7, 48.2, 31.5, 1093.9, 62.1]\n[1180.6, 36.7, 21.8, 1071.0, 51.1]\n[1354.5, 54.3, 55.1, 1174.8, 70.3]\n[992.2, 1.2, 5.9, 942.8, 42.3]\n[959.3, 1.1, 7.0, 912.1, 39.1]\n[1304.7, 0.1, 6.4, 1253.6, 44.6]\n[1143.7, 0.5, 7.3, 1099.8, 36.1]\n[1536.0, 0.0, 9.0, 1484.9, 42.1]\n[1029.6, 1.7, 20.8, 912.2, 94.9]\n[1015.7, 0.7, 36.6, 861.0, 117.4]\n[1292.7, 29.1, 39.3, 1137.2, 87.1]\n[1272.0, 20.3, 37.0, 1131.8, 82.9]\n[1068.4, 24.6, 36.6, 923.9, 83.3]\n[1027.0, 20.4, 37.5, 880.3, 88.8]\n[1449.8, 17.2, 43.2, 1303.0, 86.4]\n[1370.7, 26.4, 33.8, 1228.8, 81.7]\n[1362.6, 16.8, 91.5, 1154.2, 100.1]\n[1229.0, 34.6, 51.0, 1067.8, 75.6]\n[1122.9, 12.1, 28.6, 1018.0, 64.2]\n[1269.9, 23.8, 41.3, 1143.5, 61.3]\n[1164.6, 15.0, 38.0, 1047.0, 64.6]\n[1331.9, 33.8, 36.6, 1195.1, 66.4]\n[1209.3, 18.2, 35.9, 1076.6, 78.6]\n[1327.9, 3.4, 41.1, 1178.1, 105.3]\n[1395.2, 19.0, 52.8, 1236.7, 86.7]\n[1315.8, 25.2, 32.5, 1201.9, 56.2]\n[1385.5, 32.6, 40.4, 1243.5, 69.0]\n[1544.4, 40.8, 63.3, 1348.6, 91.7]\n[1168.6, 12.9, 39.9, 1050.6, 65.2]\n[1141.3, 11.5, 28.2, 1044.0, 57.6]\n[1223.4, 23.1, 19.9, 1138.9, 41.5]\n[1029.3, 26.5, 38.3, 882.9, 81.6]\n[1404.5, 15.6, 61.9, 1227.4, 99.6]\n[656.4, 5.1, 71.8, 436.0, 143.5]\n[1160.4, 16.8, 83.5, 783.9, 276.2]\n[1165.2, 26.0, 107.4, 745.7, 286.1]\n[1140.4, 23.1, 140.7, 726.1, 250.5]\n[1120.0, 14.5, 41.5, 958.9, 105.1]\n[1094.9, 11.6, 87.0, 860.4, 135.9]\n[1091.9, 12.3, 45.6, 920.1, 113.9]\n[1522.7, 49.3, 235.3, 759.9, 478.2]\n[1827.9, 0.9, 122.6, 1514.0, 190.4]\n[1803.2, 40.4, 368.8, 871.3, 522.7]\n[1600.0, 35.5, 232.4, 998.5, 333.6]\n[6166.1, 39.5, 1175.9, 4621.8, 328.9]\n[6379.9, 77.9, 996.2, 4667.5, 638.3]\n[7229.3, 278.1, 1195.9, 5228.0, 527.3]\n[4034.7, 112.8, 645.4, 3008.4, 268.1]\n[3571.5, 114.9, 786.6, 2385.5, 284.5]\n[3543.9, 241.2, 1256.5, 1632.1, 414.1]\n[3378.2, 101.3, 786.0, 2245.7, 245.2]\n[4402.1, 251.0, 1168.8, 2558.8, 423.5]\n[3399.4, 78.7, 534.3, 2485.2, 301.2]\n[3399.4, 78.7, 534.3, 2485.2, 301.2]\n[3274.6, 37.2, 621.2, 2441.0, 175.2]\n[3650.8, 48.4, 1114.1, 2147.9, 340.4]\n[3772.2, 38.8, 723.3, 2826.4, 183.7]\n[3218.7, 41.2, 682.9, 2296.1, 198.5]\n[3274.6, 37.2, 621.2, 2441.0, 175.2]\n[3218.7, 41.2, 682.9, 2296.1, 198.5]\n[3643.0, 50.8, 574.1, 2775.0, 243.1]\n[3443.7, 24.9, 516.5, 2737.6, 164.7]\n[3118.5, 82.1, 450.5, 2440.3, 145.6]\n[3468.3, 27.0, 498.3, 2757.9, 185.1]\n[3278.9, 0.4, 22.2, 3117.7, 138.6]\n[3470.6, 0.1, 35.3, 3261.5, 173.7]\n[3269.2, 0.4, 63.6, 3021.8, 183.4]\n[3471.4, 0.4, 104.0, 3154.9, 212.1]\n[3085.6, 0.8, 88.2, 2806.9, 189.7]\n[3070.5, 0.4, 138.8, 2720.9, 210.4]\n[3915.8, 2.6, 227.1, 3351.6, 334.5]\n[4306.0, 1.8, 227.3, 3759.7, 317.2]\n[3319.1, 4.5, 300.5, 2669.0, 345.1]\n[3384.1, 6.2, 352.6, 2603.1, 422.2]\n[3063.1, 10.9, 385.3, 2197.5, 469.4]\n[3302.5, 35.5, 426.6, 2276.2, 564.2]\n[3621.6, 3.3, 272.9, 3007.5, 337.9]\n[3253.1, 13.1, 275.4, 2632.1, 332.5]\n",
          "name": "stdout"
        }
      ]
    },
    {
      "metadata": {},
      "cell_type": "markdown",
      "source": "# FEATURE EXTRACTION"
    },
    {
      "metadata": {},
      "cell_type": "markdown",
      "source": "# CORRELATION HEATMAP"
    },
    {
      "metadata": {
        "trusted": true
      },
      "cell_type": "code",
      "source": "corr=rainfall.corr()",
      "execution_count": 34,
      "outputs": []
    },
    {
      "metadata": {
        "trusted": true
      },
      "cell_type": "code",
      "source": "sns.heatmap(corr)\n# sns.heatmap",
      "execution_count": 42,
      "outputs": [
        {
          "output_type": "execute_result",
          "execution_count": 42,
          "data": {
            "text/plain": "<matplotlib.axes._subplots.AxesSubplot at 0x7fcd95d6e710>"
          },
          "metadata": {}
        },
        {
          "output_type": "display_data",
          "data": {
            "image/png": "[encoded data removed]",
            "text/plain": "<matplotlib.figure.Figure at 0x7fcd95d75e80>"
          },
          "metadata": {}
        }
      ]
    },
    {
      "metadata": {},
      "cell_type": "markdown",
      "source": "# LINEAR REGRESSION"
    },
    {
      "metadata": {
        "trusted": true
      },
      "cell_type": "code",
      "source": "from sklearn.linear_model import LinearRegression\nfrom sklearn.model_selection import train_test_split\nfrom sklearn.metrics import mean_squared_error as mse\nfrom sklearn.metrics import accuracy_score",
      "execution_count": 46,
      "outputs": []
    },
    {
      "metadata": {
        "trusted": true
      },
      "cell_type": "code",
      "source": "x=TN.iloc[:,-2].values\ny=TN.iloc[:,-5].values",
      "execution_count": 47,
      "outputs": []
    },
    {
      "metadata": {
        "trusted": true
      },
      "cell_type": "code",
      "source": "xt,xs,yt,ys=train_test_split(x,y,test_size=0.5)",
      "execution_count": 49,
      "outputs": []
    },
    {
      "metadata": {
        "trusted": true
      },
      "cell_type": "code",
      "source": "xs=np.reshape(xs,(-1,1))\nxt=np.reshape(xt,(-1,1))",
      "execution_count": 50,
      "outputs": []
    },
    {
      "metadata": {
        "trusted": true
      },
      "cell_type": "code",
      "source": "predictor=LinearRegression()\npredictor.fit(xt,yt)\nyp=predictor.predict(xs)",
      "execution_count": 51,
      "outputs": []
    },
    {
      "metadata": {
        "trusted": true
      },
      "cell_type": "code",
      "source": "c,m=(predictor.intercept_,predictor.coef_[0])\nprint(m,c)",
      "execution_count": 52,
      "outputs": [
        {
          "output_type": "stream",
          "text": "0.3849481844358016 821.3621733679976\n",
          "name": "stdout"
        }
      ]
    },
    {
      "metadata": {
        "trusted": true
      },
      "cell_type": "code",
      "source": "dict={\n    \"actual\":ys,\n    \"predicted\":yp\n}\n\ntable=pd.DataFrame(dict)",
      "execution_count": 53,
      "outputs": []
    },
    {
      "metadata": {
        "trusted": true
      },
      "cell_type": "code",
      "source": "table",
      "execution_count": 54,
      "outputs": [
        {
          "output_type": "execute_result",
          "execution_count": 54,
          "data": {
            "text/html": "<div>\n<table border=\"1\" class=\"dataframe\">\n  <thead>\n    <tr style=\"text-align: right;\">\n      <th></th>\n      <th>actual</th>\n      <th>predicted</th>\n    </tr>\n  </thead>\n  <tbody>\n    <tr>\n      <th>0</th>\n      <td>894.3</td>\n      <td>938.886854</td>\n    </tr>\n    <tr>\n      <th>1</th>\n      <td>858.9</td>\n      <td>946.893776</td>\n    </tr>\n    <tr>\n      <th>2</th>\n      <td>954.8</td>\n      <td>963.215579</td>\n    </tr>\n    <tr>\n      <th>3</th>\n      <td>895.1</td>\n      <td>985.619564</td>\n    </tr>\n    <tr>\n      <th>4</th>\n      <td>970.8</td>\n      <td>925.875605</td>\n    </tr>\n    <tr>\n      <th>5</th>\n      <td>961.8</td>\n      <td>924.451297</td>\n    </tr>\n    <tr>\n      <th>6</th>\n      <td>950.5</td>\n      <td>931.572839</td>\n    </tr>\n    <tr>\n      <th>7</th>\n      <td>953.0</td>\n      <td>970.606584</td>\n    </tr>\n    <tr>\n      <th>8</th>\n      <td>960.3</td>\n      <td>956.132533</td>\n    </tr>\n    <tr>\n      <th>9</th>\n      <td>1016.3</td>\n      <td>950.358310</td>\n    </tr>\n    <tr>\n      <th>10</th>\n      <td>878.8</td>\n      <td>927.376903</td>\n    </tr>\n    <tr>\n      <th>11</th>\n      <td>977.7</td>\n      <td>943.737201</td>\n    </tr>\n    <tr>\n      <th>12</th>\n      <td>1020.1</td>\n      <td>943.467737</td>\n    </tr>\n    <tr>\n      <th>13</th>\n      <td>871.7</td>\n      <td>891.615217</td>\n    </tr>\n    <tr>\n      <th>14</th>\n      <td>918.7</td>\n      <td>960.482447</td>\n    </tr>\n    <tr>\n      <th>15</th>\n      <td>866.9</td>\n      <td>922.834515</td>\n    </tr>\n    <tr>\n      <th>16</th>\n      <td>948.3</td>\n      <td>989.469046</td>\n    </tr>\n    <tr>\n      <th>17</th>\n      <td>913.0</td>\n      <td>942.659346</td>\n    </tr>\n    <tr>\n      <th>18</th>\n      <td>942.1</td>\n      <td>952.744989</td>\n    </tr>\n    <tr>\n      <th>19</th>\n      <td>998.8</td>\n      <td>936.923618</td>\n    </tr>\n    <tr>\n      <th>20</th>\n      <td>968.0</td>\n      <td>973.994128</td>\n    </tr>\n    <tr>\n      <th>21</th>\n      <td>923.6</td>\n      <td>992.664115</td>\n    </tr>\n    <tr>\n      <th>22</th>\n      <td>944.5</td>\n      <td>945.777427</td>\n    </tr>\n    <tr>\n      <th>23</th>\n      <td>922.6</td>\n      <td>917.445240</td>\n    </tr>\n    <tr>\n      <th>24</th>\n      <td>943.7</td>\n      <td>973.108748</td>\n    </tr>\n    <tr>\n      <th>25</th>\n      <td>897.4</td>\n      <td>984.349235</td>\n    </tr>\n    <tr>\n      <th>26</th>\n      <td>941.6</td>\n      <td>954.515750</td>\n    </tr>\n    <tr>\n      <th>27</th>\n      <td>963.5</td>\n      <td>939.310297</td>\n    </tr>\n    <tr>\n      <th>28</th>\n      <td>1037.6</td>\n      <td>980.422763</td>\n    </tr>\n  </tbody>\n</table>\n</div>",
            "text/plain": "    actual   predicted\n0    894.3  938.886854\n1    858.9  946.893776\n2    954.8  963.215579\n3    895.1  985.619564\n4    970.8  925.875605\n5    961.8  924.451297\n6    950.5  931.572839\n7    953.0  970.606584\n8    960.3  956.132533\n9   1016.3  950.358310\n10   878.8  927.376903\n11   977.7  943.737201\n12  1020.1  943.467737\n13   871.7  891.615217\n14   918.7  960.482447\n15   866.9  922.834515\n16   948.3  989.469046\n17   913.0  942.659346\n18   942.1  952.744989\n19   998.8  936.923618\n20   968.0  973.994128\n21   923.6  992.664115\n22   944.5  945.777427\n23   922.6  917.445240\n24   943.7  973.108748\n25   897.4  984.349235\n26   941.6  954.515750\n27   963.5  939.310297\n28  1037.6  980.422763"
          },
          "metadata": {}
        }
      ]
    },
    {
      "metadata": {},
      "cell_type": "markdown",
      "source": "# PERFORMANCE MEASURES"
    },
    {
      "metadata": {},
      "cell_type": "markdown",
      "source": "# Mean Squared Error"
    },
    {
      "metadata": {
        "trusted": true
      },
      "cell_type": "code",
      "source": "mse(ys,yp)",
      "execution_count": 55,
      "outputs": [
        {
          "output_type": "execute_result",
          "execution_count": 55,
          "data": {
            "text/plain": "2237.7958163951193"
          },
          "metadata": {}
        }
      ]
    },
    {
      "metadata": {},
      "cell_type": "markdown",
      "source": "# DATA VISUALIZATION"
    },
    {
      "metadata": {},
      "cell_type": "markdown",
      "source": "# Scatter Plot"
    },
    {
      "metadata": {
        "trusted": true
      },
      "cell_type": "code",
      "source": "plt.scatter(x,y)\nx1=range(150,500)\nplt.plot(x1,m*x1+c,c='r')\nplt.xticks([200,300,400,500])\nplt.yticks([800,900,1000,1100,1200,1300])",
      "execution_count": 57,
      "outputs": [
        {
          "output_type": "execute_result",
          "execution_count": 57,
          "data": {
            "text/plain": "([<matplotlib.axis.YTick at 0x7fcd9598d5f8>,\n  <matplotlib.axis.YTick at 0x7fcd96089898>,\n  <matplotlib.axis.YTick at 0x7fcd9598d4a8>,\n  <matplotlib.axis.YTick at 0x7fcd959ab9b0>,\n  <matplotlib.axis.YTick at 0x7fcd95931080>,\n  <matplotlib.axis.YTick at 0x7fcd95931710>],\n <a list of 6 Text yticklabel objects>)"
          },
          "metadata": {}
        },
        {
          "output_type": "display_data",
          "data": {
            "image/png": "[encoded data removed]",
            "text/plain": "<matplotlib.figure.Figure at 0x7fcd95cd0e80>"
          },
          "metadata": {}
        }
      ]
    },
    {
      "metadata": {
        "trusted": true
      },
      "cell_type": "code",
      "source": "x=TN.iloc[:,1].values",
      "execution_count": 58,
      "outputs": []
    },
    {
      "metadata": {},
      "cell_type": "markdown",
      "source": "# Dist Plot"
    },
    {
      "metadata": {
        "trusted": true
      },
      "cell_type": "code",
      "source": "sns.distplot(y)",
      "execution_count": 59,
      "outputs": [
        {
          "output_type": "stream",
          "text": "/home/nbuser/anaconda3_420/lib/python3.5/site-packages/scipy/stats/stats.py:1713: FutureWarning: Using a non-tuple sequence for multidimensional indexing is deprecated; use `arr[tuple(seq)]` instead of `arr[seq]`. In the future this will be interpreted as an array index, `arr[np.array(seq)]`, which will result either in an error or a different result.\n  return np.add.reduce(sorted[indexer] * weights, axis=axis) / sumval\n",
          "name": "stderr"
        },
        {
          "output_type": "execute_result",
          "execution_count": 59,
          "data": {
            "text/plain": "<matplotlib.axes._subplots.AxesSubplot at 0x7fcd959a3e80>"
          },
          "metadata": {}
        },
        {
          "output_type": "display_data",
          "data": {
            "image/png": "[encoded data removed]",
            "text/plain": "<matplotlib.figure.Figure at 0x7fcd95cd05c0>"
          },
          "metadata": {}
        }
      ]
    }
  ],
  "metadata": {
    "kernelspec": {
      "name": "python3",
      "display_name": "Python 3",
      "language": "python"
    },
    "language_info": {
      "mimetype": "text/x-python",
      "nbconvert_exporter": "python",
      "name": "python",
      "pygments_lexer": "ipython3",
      "version": "3.5.4",
      "file_extension": ".py",
      "codemirror_mode": {
        "version": 3,
        "name": "ipython"
      }
    }
  },
  "nbformat": 4,
  "nbformat_minor": 2
}